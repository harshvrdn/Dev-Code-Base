{
 "cells": [
  {
   "cell_type": "code",
   "execution_count": 20,
   "metadata": {},
   "outputs": [
    {
     "name": "stdout",
     "output_type": "stream",
     "text": [
      "Hello There!\n",
      "\n",
      "Hello Harsh\n",
      "Hello Harsh, So i see you need my help today?\n",
      "\n",
      "Let's get started!\n",
      "\n"
     ]
    }
   ],
   "source": [
    "print(\"Hello There!\\n\")\n",
    "\n",
    "name = input(\"What is your name?\\n\")\n",
    "print(\"Hello\", name)\n",
    "\n",
    "print(\"Hello\", name + \", So i see you need my help today?\\n\")\n",
    "print(\"Let's get started!\\n\")\n",
    "\n"
   ]
  }
 ],
 "metadata": {
  "kernelspec": {
   "display_name": "Python 3",
   "language": "python",
   "name": "python3"
  },
  "language_info": {
   "codemirror_mode": {
    "name": "ipython",
    "version": 3
   },
   "file_extension": ".py",
   "mimetype": "text/x-python",
   "name": "python",
   "nbconvert_exporter": "python",
   "pygments_lexer": "ipython3",
   "version": "3.12.3"
  }
 },
 "nbformat": 4,
 "nbformat_minor": 2
}
